{
 "cells": [
  {
   "cell_type": "raw",
   "metadata": {},
   "source": [
    "Problem 1: For vectors v=[−1,3] and u=[0,4], find the vectors v+u, v−u, and 3v−2u."
   ]
  },
  {
   "cell_type": "code",
   "execution_count": 1,
   "metadata": {
    "collapsed": true
   },
   "outputs": [],
   "source": [
    "v=[-1,3]"
   ]
  },
  {
   "cell_type": "code",
   "execution_count": 2,
   "metadata": {
    "collapsed": true
   },
   "outputs": [],
   "source": [
    "u=[0,4]"
   ]
  },
  {
   "cell_type": "raw",
   "metadata": {},
   "source": [
    "v + u"
   ]
  },
  {
   "cell_type": "code",
   "execution_count": 3,
   "metadata": {
    "collapsed": true
   },
   "outputs": [],
   "source": [
    "def vplus(u, v): return [u[i] + v[i] for i in range(len(u))]"
   ]
  },
  {
   "cell_type": "code",
   "execution_count": 4,
   "metadata": {
    "collapsed": false
   },
   "outputs": [
    {
     "data": {
      "text/plain": [
       "[-1, 7]"
      ]
     },
     "execution_count": 4,
     "metadata": {},
     "output_type": "execute_result"
    }
   ],
   "source": [
    "vplus(u, v)"
   ]
  },
  {
   "cell_type": "raw",
   "metadata": {},
   "source": [
    "v - u"
   ]
  },
  {
   "cell_type": "code",
   "execution_count": 5,
   "metadata": {
    "collapsed": true
   },
   "outputs": [],
   "source": [
    "def vminus(u, v): return [u[i] - v[i] for i in range(len(u))]"
   ]
  },
  {
   "cell_type": "code",
   "execution_count": 6,
   "metadata": {
    "collapsed": false
   },
   "outputs": [
    {
     "data": {
      "text/plain": [
       "[-1, -1]"
      ]
     },
     "execution_count": 6,
     "metadata": {},
     "output_type": "execute_result"
    }
   ],
   "source": [
    "vminus(v, u)"
   ]
  },
  {
   "cell_type": "raw",
   "metadata": {},
   "source": [
    "￼Problem 2: Given the vectors v = [2,−1,5] and u = [−1,1,1], find the vectors v + u, v − u, 2v − u, and v + 2u."
   ]
  },
  {
   "cell_type": "code",
   "execution_count": null,
   "metadata": {
    "collapsed": true
   },
   "outputs": [],
   "source": []
  },
  {
   "cell_type": "raw",
   "metadata": {},
   "source": [
    "Problem 3: For the vectors v = [0, one, one] and u = [one, one, one] over GF (2), find v+u and v+u+u."
   ]
  },
  {
   "cell_type": "code",
   "execution_count": null,
   "metadata": {
    "collapsed": true
   },
   "outputs": [],
   "source": []
  },
  {
   "cell_type": "raw",
   "metadata": {},
   "source": [
    "Problem 4: Here are six 7-vectors over GF (2):\n",
    "\n",
    "For each of the following vectors u, find a subset of the above vectors whose sum is u, or report that no such subset exists. You should be able to do this without the help of a computer.\n",
    "\n",
    "1. u = 0010010 \n",
    "2. u = 0100010"
   ]
  },
  {
   "cell_type": "code",
   "execution_count": null,
   "metadata": {
    "collapsed": true
   },
   "outputs": [],
   "source": []
  },
  {
   "cell_type": "raw",
   "metadata": {},
   "source": [
    "Problem 6: (You should be able to solve this problem without using a computer.) \n",
    "x = [x1,x2,x3,x4] over GF(2) satisfying the following linear equations:\n",
    "\n",
    "1100·x = 1\n",
    "1010·x = 1\n",
    "1111·x = 1\n",
    "\n",
    "\n",
    "Verify for yourself that x + 1111 also satisfies the equations.\n"
   ]
  },
  {
   "cell_type": "raw",
   "metadata": {},
   "source": [
    "x1 = 0 or 1\n",
    "x2 = 0 or 1\n",
    "x3 = 0 or 1\n",
    "x4 = 0 or 1\n",
    "\n",
    "solve for x\n",
    "\n",
    "1x1 + 1x2 + 0x3 + 0x4 = 1,3 or 5/R odd\n",
    "1x1 + 0x2 + 1x3 + 0x4 = 1\n",
    "1x1 + 1x2 + 1x3 + 1x4 = 1\n",
    "\n",
    "1x1 = 1 - 1x2\n",
    "1x1 = 1 - 1x3\n",
    "\n",
    "1x2 = 1 - 1x1\n",
    "1x3 = 1 - 1x1\n",
    "\n",
    "1x1 = 1 - (1 - 1x1)\n",
    "    = 1 - 1 + 1x1\n",
    "1x1 = 1x1\n",
    "\n",
    "ok what are the possibilities for the first one\n",
    "1, 1, 1, 0\n",
    "1, 1, 0, 1\n",
    "0, 0, 0, 1\n",
    "0, 0, 1, 0\n",
    "0, 1, 0, 0\n",
    "\n",
    "So!  if:\n",
    "a1 * x = b1\n",
    "and \n",
    "a2 * x = b2\n",
    "and \n",
    "a3 * x = b3\n",
    "\n",
    "(a1 + a2 + a3) * x = (b1 + b2 + b3)\n",
    "lets use this\n",
    "\n",
    "    1100\n",
    "    1010\n",
    "+   1111\n",
    " ak=1001         bk=1\n",
    " \n",
    " so!\n",
    " 1001 * x = 1\n",
    " a bunch of solutions\n",
    " 0,0,0,1\n",
    " \n",
    " cool it works!\n",
    "\n"
   ]
  },
  {
   "cell_type": "raw",
   "metadata": {},
   "source": [
    "Problem 7: Consider the equations\n",
    "    2x0 + 3x1 - 4x2 +  x3 = 10\n",
    "     x0 - 5x1 + 2x2 + 0x3 = 35\n",
    "    4x0 +  x1 -  x2 -  x3 = 8\n",
    "    \n",
    "Your job is not to solve these equations but to formulate them using dot-product. In particular, come up with three vectors v1, v2, and v3 represented as lists so that the above equations are equivalent to\n",
    "    v1·x = 10\n",
    "    v2·x = 35\n",
    "    v3·x = 8\n",
    "    \n",
    "where x is a 4-vector over R.\n",
    "\n",
    "so lets make a dot product:\n",
    "    2x0 + 3x1 - 4x2 +  x3 = 10\n",
    "     x0 - 5x1 + 2x2 + 0x3 = 35\n",
    "+   4x0 +  x1 -  x2 -  x3 = 8\n",
    "x = 6x0 -  x1 - 3x2 + 0x3 = 53\n",
    "\n",
    "6x0 -  x1 - 3x2 + 0x3 = 53\n",
    "\n",
    "Trick Question!!!\n",
    "v1 = [2,3,-4,1]\n",
    "v2 = [1,-5,2,0]\n",
    "v3 = [4,1,-1,-1]\n",
    "\n",
    "just undistribute the x\n"
   ]
  }
 ],
 "metadata": {
  "kernelspec": {
   "display_name": "Python 3",
   "language": "python",
   "name": "python3"
  },
  "language_info": {
   "codemirror_mode": {
    "name": "ipython",
    "version": 3
   },
   "file_extension": ".py",
   "mimetype": "text/x-python",
   "name": "python",
   "nbconvert_exporter": "python",
   "pygments_lexer": "ipython3",
   "version": "3.4.3"
  }
 },
 "nbformat": 4,
 "nbformat_minor": 0
}
