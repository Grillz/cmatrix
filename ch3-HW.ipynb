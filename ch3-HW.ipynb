{
 "cells": [
  {
   "cell_type": "raw",
   "metadata": {},
   "source": [
    "Problem 1:\n",
    "\n",
    "1. Write and test a procedure vec select using a comprehension for the following computational problem: \n",
    "    • input: a list veclist of vectors over the same domain, and an element k of the domain\n",
    "    • output: the sublist of veclist consisting of the vectors v in veclist where v[k] is zero\n",
    "\n",
    "2. Write and test a procedure vec sum using the built-in procedure sum(·) for the following:\n",
    "    • input: a list veclist of vectors, and a set D that is the common domain of these vectors \n",
    "    • output: the vector sum of the vectors in veclist.\n",
    "    Your procedure must work even if veclist has length 0.\n",
    "    Hint: Recall from the Python Lab that sum(·) optionally takes a second argument, which is the element\n",
    "    to start the sum with. This can be a vector.\n",
    "    Disclaimer: The Vec class is defined in such a way that, for a vector v, the expression 0 + v evaluates to v. This     was done precisely so that sum([v1,v2,... vk]) will correctly evaluate to the sum of the vectors when the number       of vectors is nonzero. However, this won’t work when the number of vectors is zero.\n",
    "    \n",
    "3. Put your procedures together to obtain a procedure vec select sum for the following:\n",
    "    • input: a set D, a list veclist of vectors with domain D, and an element k of the domain \n",
    "    • output: the sum of all vectors v in veclist where v[k] is zero"
   ]
  },
  {
   "cell_type": "raw",
   "metadata": {},
   "source": [
    "1. Write and test a procedure vec select using a comprehension for the following computational problem: \n",
    "    • input: a list veclist of vectors over the same domain, and an element k of the domain\n",
    "    • output: the sublist of veclist consisting of the vectors v in veclist where v[k] is zero"
   ]
  },
  {
   "cell_type": "code",
   "execution_count": 13,
   "metadata": {
    "collapsed": false
   },
   "outputs": [],
   "source": [
    "def vec_select(veclist, k): return [[veclist[i][z] * 0 for z in range(len(veclist[i]))] if veclist[i] == veclist[k] else veclist[i] for i in range(len(veclist))]"
   ]
  },
  {
   "cell_type": "code",
   "execution_count": 10,
   "metadata": {
    "collapsed": true
   },
   "outputs": [],
   "source": [
    "veclist = [[1, 2],[3, 4],[5, 6],[7, 8]]"
   ]
  },
  {
   "cell_type": "code",
   "execution_count": 4,
   "metadata": {
    "collapsed": true
   },
   "outputs": [],
   "source": [
    "vectest = [1,2]"
   ]
  },
  {
   "cell_type": "code",
   "execution_count": 14,
   "metadata": {
    "collapsed": false
   },
   "outputs": [
    {
     "data": {
      "text/plain": [
       "[[1, 2], [3, 4], [5, 6], [0, 0]]"
      ]
     },
     "execution_count": 14,
     "metadata": {},
     "output_type": "execute_result"
    }
   ],
   "source": [
    "vec_select(veclist, 3)"
   ]
  },
  {
   "cell_type": "raw",
   "metadata": {},
   "source": [
    "2. Write and test a procedure vec_sum using the built-in procedure sum(·) for the following:\n",
    "    • input: a list veclist of vectors, and a set D that is the common domain of these vectors \n",
    "    • output: the vector sum of the vectors in veclist.\n",
    "    Your procedure must work even if veclist has length 0.\n",
    "    Hint: Recall from the Python Lab that sum(·) optionally takes a second argument, which is the element\n",
    "    to start the sum with. This can be a vector.\n",
    "    Disclaimer: The Vec class is defined in such a way that, for a vector v, the expression 0 + v evaluates to v. This     was done precisely so that sum([v1,v2,... vk]) will correctly evaluate to the sum of the vectors when the number       of vectors is nonzero. However, this won’t work when the number of vectors is zero."
   ]
  },
  {
   "cell_type": "code",
   "execution_count": null,
   "metadata": {
    "collapsed": true
   },
   "outputs": [],
   "source": [
    "def vec_sum(veclist, D): return [[v[0]],[v[1]] for v in veclist]"
   ]
  },
  {
   "cell_type": "code",
   "execution_count": 58,
   "metadata": {
    "collapsed": true
   },
   "outputs": [],
   "source": [
    "def vec_sum1(veclist, D): return [sum([v[i] for v in veclist]) for i in range(D)]"
   ]
  },
  {
   "cell_type": "code",
   "execution_count": 59,
   "metadata": {
    "collapsed": true
   },
   "outputs": [],
   "source": [
    "veclist = [[1,2],[3,4],[5,6],[7,8]]"
   ]
  },
  {
   "cell_type": "code",
   "execution_count": 60,
   "metadata": {
    "collapsed": false
   },
   "outputs": [
    {
     "data": {
      "text/plain": [
       "[16, 20]"
      ]
     },
     "execution_count": 60,
     "metadata": {},
     "output_type": "execute_result"
    }
   ],
   "source": [
    "vec_sum1(veclist, 2)"
   ]
  },
  {
   "cell_type": "raw",
   "metadata": {},
   "source": [
    "3. Put your procedures together to obtain a procedure vec_select_sum for the following:\n",
    "• input: a set D, a list veclist of vectors with domain D, and an element k of the domain \n",
    "• output: the sum of all vectors v in veclist where v[k] is zero"
   ]
  },
  {
   "cell_type": "code",
   "execution_count": 61,
   "metadata": {
    "collapsed": true
   },
   "outputs": [],
   "source": [
    "def vec_select_sum(D, veclist, k): return [[veclist[i][z] * 0 for z in range(len(veclist[i]))] if veclist[i] == veclist[k] else veclist[i] for i in range(len(veclist))]"
   ]
  },
  {
   "cell_type": "code",
   "execution_count": 81,
   "metadata": {
    "collapsed": false
   },
   "outputs": [],
   "source": [
    "def vec_select_sum1(D, veclist, k): return [sum([v[i] if v != veclist[k] else v[i] * 0 for v in veclist]) for i in range(D)]"
   ]
  },
  {
   "cell_type": "code",
   "execution_count": 82,
   "metadata": {
    "collapsed": true
   },
   "outputs": [],
   "source": [
    "veclist = [[1,2],[3,4],[5,6],[7,8]]"
   ]
  },
  {
   "cell_type": "code",
   "execution_count": 84,
   "metadata": {
    "collapsed": false
   },
   "outputs": [
    {
     "data": {
      "text/plain": [
       "[11, 14]"
      ]
     },
     "execution_count": 84,
     "metadata": {},
     "output_type": "execute_result"
    }
   ],
   "source": [
    "vec_select_sum1(2,veclist, 2)"
   ]
  },
  {
   "cell_type": "code",
   "execution_count": 85,
   "metadata": {
    "collapsed": false
   },
   "outputs": [
    {
     "data": {
      "text/plain": [
       "[9, 12]"
      ]
     },
     "execution_count": 85,
     "metadata": {},
     "output_type": "execute_result"
    }
   ],
   "source": [
    "vec_select_sum1(2, veclist, 3)"
   ]
  },
  {
   "cell_type": "raw",
   "metadata": {},
   "source": [
    "Problem 2: Write and test a procedure scale_vecs(vecdict) for the following:\n",
    "• input: A dictionary vecdict mapping positive numbers to vectors (instances of Vec)\n",
    "• output: a list of vectors, one for each item in vecdict. If vecdict contains a key k mapping to a vector v, the output should contain the vector (1/k)v"
   ]
  },
  {
   "cell_type": "code",
   "execution_count": 87,
   "metadata": {
    "collapsed": false
   },
   "outputs": [],
   "source": [
    "vecdict = {4:[1,2], 5:[3,4], 6:[5,6], 7:[7,8]}"
   ]
  },
  {
   "cell_type": "code",
   "execution_count": 108,
   "metadata": {
    "collapsed": false
   },
   "outputs": [],
   "source": [
    "def scale_vecs(vecdict): return [[(1/k)* i for i in vecdict[k]] for k in vecdict]"
   ]
  },
  {
   "cell_type": "code",
   "execution_count": 109,
   "metadata": {
    "collapsed": false
   },
   "outputs": [
    {
     "data": {
      "text/plain": [
       "[[0.25, 0.5],\n",
       " [0.6000000000000001, 0.8],\n",
       " [0.8333333333333333, 1.0],\n",
       " [1.0, 1.1428571428571428]]"
      ]
     },
     "execution_count": 109,
     "metadata": {},
     "output_type": "execute_result"
    }
   ],
   "source": [
    "scale_vecs(vecdict)"
   ]
  },
  {
   "cell_type": "raw",
   "metadata": {},
   "source": [
    "Problem 3: Write a procedure GF2_span(D, S) with the following spec:\n",
    "• input: a set D of labels and a set S of vectors over GF(2) with label-set D \n",
    "• output: the set of all linear combinations of the vectors in S\n",
    "\n",
    "(Hint: use a loop (or recursion) and a comprehension. Be sure to test your procedure on examples where S is an empty set. This problem is a bit challenging but there is a short solution. If you find it too difficult; don’t worry. Just move on. It’s not really a linear-algebra problem; it’s more of a programming puzzle."
   ]
  },
  {
   "cell_type": "code",
   "execution_count": 113,
   "metadata": {
    "collapsed": false
   },
   "outputs": [],
   "source": [
    "D = [[1,1],[0,1]]"
   ]
  },
  {
   "cell_type": "code",
   "execution_count": 110,
   "metadata": {
    "collapsed": true
   },
   "outputs": [],
   "source": [
    "def GF2_span(D, S): return this"
   ]
  },
  {
   "cell_type": "raw",
   "metadata": {},
   "source": [
    "￼Problem 4: Is the following statement true or false? “{[x,y,z] : x,y,z ∈ R,x + y + z = 1} is a vector space.”"
   ]
  },
  {
   "cell_type": "raw",
   "metadata": {},
   "source": [
    "False"
   ]
  },
  {
   "cell_type": "raw",
   "metadata": {},
   "source": [
    "￼Problem 5: Is the following statement true or false? “{[x,y,z] : x,y,z ∈ R and x + y + z = 0} is a vector space.”"
   ]
  },
  {
   "cell_type": "raw",
   "metadata": {},
   "source": [
    "True"
   ]
  },
  {
   "cell_type": "raw",
   "metadata": {},
   "source": [
    "￼Problem 6: Is the following statement true or false? “{[x1, x2, x3, x4, x5] : x1, x2, x3, x4, x5 ∈ R, x2 = 0 or x5 = 0} is a vector space.”"
   ]
  },
  {
   "cell_type": "raw",
   "metadata": {},
   "source": [
    "True, does the space contain the origin?"
   ]
  },
  {
   "cell_type": "raw",
   "metadata": {},
   "source": [
    "Problem 7:\n",
    "\n",
    "1. Let V be the set of 5-vectors over GF (2) that have an even number of 1’s. Is the following statement true or false? “V is a vector space.”\n",
    "\n",
    "2. Let V be the set of 5-vectors over GF(2) that have an odd number of 1’s. Is the following statement true or false? “V is a vector space.”"
   ]
  },
  {
   "cell_type": "raw",
   "metadata": {},
   "source": [
    "1. \n",
    "2."
   ]
  }
 ],
 "metadata": {
  "kernelspec": {
   "display_name": "Python 3",
   "language": "python",
   "name": "python3"
  },
  "language_info": {
   "codemirror_mode": {
    "name": "ipython",
    "version": 3
   },
   "file_extension": ".py",
   "mimetype": "text/x-python",
   "name": "python",
   "nbconvert_exporter": "python",
   "pygments_lexer": "ipython3",
   "version": "3.4.3"
  }
 },
 "nbformat": 4,
 "nbformat_minor": 0
}
