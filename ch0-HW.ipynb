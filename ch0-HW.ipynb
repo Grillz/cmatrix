{
 "metadata": {
  "name": "",
  "signature": "sha256:61ff77890bd82d7d45da1c172234a6f9ac23de22960d83ec4e82e6c635629b56"
 },
 "nbformat": 3,
 "nbformat_minor": 0,
 "worksheets": [
  {
   "cells": [
    {
     "cell_type": "raw",
     "metadata": {},
     "source": [
      "Task 1: Use python to find the number of minutes in a week"
     ]
    },
    {
     "cell_type": "code",
     "collapsed": false,
     "input": [
      "def minsW(): return 60*24*7"
     ],
     "language": "python",
     "metadata": {},
     "outputs": [],
     "prompt_number": 1
    },
    {
     "cell_type": "code",
     "collapsed": false,
     "input": [
      "minsW()"
     ],
     "language": "python",
     "metadata": {},
     "outputs": [
      {
       "metadata": {},
       "output_type": "pyout",
       "prompt_number": 3,
       "text": [
        "10080"
       ]
      }
     ],
     "prompt_number": 3
    },
    {
     "cell_type": "raw",
     "metadata": {},
     "source": [
      "Task 2: Use Python to find the remainder of 2304811 divided by 47 without using the modulo operator %."
     ]
    },
    {
     "cell_type": "code",
     "collapsed": false,
     "input": [
      "x=2304811//47"
     ],
     "language": "python",
     "metadata": {},
     "outputs": [],
     "prompt_number": 7
    },
    {
     "cell_type": "code",
     "collapsed": false,
     "input": [
      "y= x * 47"
     ],
     "language": "python",
     "metadata": {},
     "outputs": [],
     "prompt_number": 9
    },
    {
     "cell_type": "code",
     "collapsed": false,
     "input": [
      "2304811 - y"
     ],
     "language": "python",
     "metadata": {},
     "outputs": [
      {
       "metadata": {},
       "output_type": "pyout",
       "prompt_number": 10,
       "text": [
        "25"
       ]
      }
     ],
     "prompt_number": 10
    },
    {
     "cell_type": "raw",
     "metadata": {},
     "source": [
      "Task 3: Enter a Boolean expression to test whether the sum of 673 and 909 is divisible by 3."
     ]
    },
    {
     "cell_type": "code",
     "collapsed": false,
     "input": [
      "(673 + 909) % 3 == 0 "
     ],
     "language": "python",
     "metadata": {},
     "outputs": [
      {
       "metadata": {},
       "output_type": "pyout",
       "prompt_number": 11,
       "text": [
        "False"
       ]
      }
     ],
     "prompt_number": 11
    },
    {
     "cell_type": "raw",
     "metadata": {},
     "source": [
      "Task 4: Assign the value -9 to x and 1/2 to y. Predict the value of the following expression, then enter it to check your prediction:\n",
      "   2**(y+1/2) if x+10<0 else 2**(y-1/2)"
     ]
    },
    {
     "cell_type": "raw",
     "metadata": {},
     "source": [
      "\ufffcTask 5: Write a comprehension over {1,2,3,4,5} whose value is the set consisting of the squares of the first five positive integers."
     ]
    },
    {
     "cell_type": "code",
     "collapsed": false,
     "input": [
      "{x**2 for x in range(1,5) if x > 0}"
     ],
     "language": "python",
     "metadata": {},
     "outputs": [
      {
       "metadata": {},
       "output_type": "pyout",
       "prompt_number": 18,
       "text": [
        "{1, 4, 9, 16}"
       ]
      }
     ],
     "prompt_number": 18
    },
    {
     "cell_type": "raw",
     "metadata": {},
     "source": [
      "\ufffcTask 6: Write a comprehension over {0, 1, 2, 3, 4} whose value is the set consisting of the first five powers of two, starting with 2^0."
     ]
    },
    {
     "cell_type": "code",
     "collapsed": false,
     "input": [
      "{2**x for x in {0,1,2,3,4}}"
     ],
     "language": "python",
     "metadata": {},
     "outputs": [
      {
       "metadata": {},
       "output_type": "pyout",
       "prompt_number": 19,
       "text": [
        "{1, 2, 4, 8, 16}"
       ]
      }
     ],
     "prompt_number": 19
    },
    {
     "cell_type": "raw",
     "metadata": {},
     "source": [
      "Task 7: The value of the previous comprehension,\n",
      "{x*y for x in {1,2,3} for y in {2,3,4}}\n",
      "is a seven-element set. Replace {1,2,3} and {2,3,4} with two other three-element sets so that the value becomes a nine-element set."
     ]
    },
    {
     "cell_type": "code",
     "collapsed": false,
     "input": [
      "{x*y for x in {5,6,7} for y in {2,3,4}}"
     ],
     "language": "python",
     "metadata": {},
     "outputs": [
      {
       "metadata": {},
       "output_type": "pyout",
       "prompt_number": 24,
       "text": [
        "{10, 12, 14, 15, 18, 20, 21, 24, 28}"
       ]
      }
     ],
     "prompt_number": 24
    },
    {
     "cell_type": "raw",
     "metadata": {},
     "source": [
      "Task 9: Assume that S and T are assigned sets. Without using the intersection operator &, write a compre- hension over S whose value is the intersection of S and T. Hint: Use a membership test in a filter at the end of the comprehension.\n",
      "Try out your comprehension with S = {1,2,3,4} and T = {3,4,5,6}."
     ]
    },
    {
     "cell_type": "code",
     "collapsed": false,
     "input": [
      "{x for x in {1,2,3,4} if x in {3,4,5,6}}"
     ],
     "language": "python",
     "metadata": {},
     "outputs": [
      {
       "metadata": {},
       "output_type": "pyout",
       "prompt_number": 25,
       "text": [
        "{3, 4}"
       ]
      }
     ],
     "prompt_number": 25
    },
    {
     "cell_type": "raw",
     "metadata": {},
     "source": [
      "Task 10: Write an expression whose value is the average of the elements of the list [20, 10, 15, 75]"
     ]
    },
    {
     "cell_type": "code",
     "collapsed": false,
     "input": [
      "sum([20,10,15,75])/len([20,10,15,75])\n",
      "    "
     ],
     "language": "python",
     "metadata": {},
     "outputs": [
      {
       "metadata": {},
       "output_type": "pyout",
       "prompt_number": 26,
       "text": [
        "30.0"
       ]
      }
     ],
     "prompt_number": 26
    },
    {
     "cell_type": "raw",
     "metadata": {},
     "source": [
      "Task 11: Write a double list comprehension over the lists ['A','B','C'] and [1,2,3] whose value is the list of all possible two-element lists [letter, number]. That is, the value is\n",
      "[['A', 1], ['A', 2], ['A', 3], ['B', 1], ['B', 2],['B', 3],\n",
      "['C', 1], ['C', 2], ['C', 3]]"
     ]
    },
    {
     "cell_type": "code",
     "collapsed": false,
     "input": [
      "[ [k,e] for k in [5,6,7] for e in [1,2,3]]"
     ],
     "language": "python",
     "metadata": {},
     "outputs": [
      {
       "metadata": {},
       "output_type": "pyout",
       "prompt_number": 37,
       "text": [
        "[[5, 1], [5, 2], [5, 3], [6, 1], [6, 2], [6, 3], [7, 1], [7, 2], [7, 3]]"
       ]
      }
     ],
     "prompt_number": 37
    },
    {
     "cell_type": "raw",
     "metadata": {},
     "source": [
      "Task 12: Suppose LofL has been assigned a list whose elements are themselves lists of numbers. Write an expression that evaluates to the sum of all the numbers in all the lists. The expression has the form\n",
      "sum([sum(...\n",
      "and includes one comprehension. Test your expression after assigning [[.25, .75, .1], [-1, 0], [4,\n",
      "4, 4, 4]] to LofL. Note that your expression should work for a list of any length."
     ]
    },
    {
     "cell_type": "code",
     "collapsed": false,
     "input": [
      "Lol= [[.25, .75, .1], [-1, 0], [4,\n",
      "4, 4, 4]]"
     ],
     "language": "python",
     "metadata": {},
     "outputs": [],
     "prompt_number": 38
    },
    {
     "cell_type": "code",
     "collapsed": false,
     "input": [
      "sum([sum(x) for x in Lol])"
     ],
     "language": "python",
     "metadata": {},
     "outputs": [
      {
       "metadata": {},
       "output_type": "pyout",
       "prompt_number": 41,
       "text": [
        "16.1"
       ]
      }
     ],
     "prompt_number": 41
    },
    {
     "cell_type": "raw",
     "metadata": {},
     "source": [
      "Ungraded Task: Find out what happens if the length of the left-hand side list does not match the length of the right-hand side list."
     ]
    },
    {
     "cell_type": "code",
     "collapsed": false,
     "input": [
      "[x,y]=[4,2,3]"
     ],
     "language": "python",
     "metadata": {},
     "outputs": [
      {
       "ename": "ValueError",
       "evalue": "too many values to unpack (expected 2)",
       "output_type": "pyerr",
       "traceback": [
        "\u001b[1;31m---------------------------------------------------------------------------\u001b[0m\n\u001b[1;31mValueError\u001b[0m                                Traceback (most recent call last)",
        "\u001b[1;32m<ipython-input-46-a8ec0fca32dd>\u001b[0m in \u001b[0;36m<module>\u001b[1;34m()\u001b[0m\n\u001b[1;32m----> 1\u001b[1;33m \u001b[1;33m[\u001b[0m\u001b[0mx\u001b[0m\u001b[1;33m,\u001b[0m\u001b[0my\u001b[0m\u001b[1;33m]\u001b[0m\u001b[1;33m=\u001b[0m\u001b[1;33m[\u001b[0m\u001b[1;36m4\u001b[0m\u001b[1;33m,\u001b[0m\u001b[1;36m2\u001b[0m\u001b[1;33m,\u001b[0m\u001b[1;36m3\u001b[0m\u001b[1;33m]\u001b[0m\u001b[1;33m\u001b[0m\u001b[0m\n\u001b[0m",
        "\u001b[1;31mValueError\u001b[0m: too many values to unpack (expected 2)"
       ]
      }
     ],
     "prompt_number": 46
    },
    {
     "cell_type": "raw",
     "metadata": {},
     "source": [
      "\ufffcTask 13: Suppose S is a set of integers, e.g. {\u22124, \u22122, 1, 2, 5, 0}. Write a triple comprehension whose value is a list of all three-element tuples (i, j, k) such that i, j, k are elements of S whose sum is zero."
     ]
    },
    {
     "cell_type": "code",
     "collapsed": false,
     "input": [
      "S = {-4, -2, 1, 2, 5, 0}"
     ],
     "language": "python",
     "metadata": {},
     "outputs": [],
     "prompt_number": 49
    },
    {
     "cell_type": "code",
     "collapsed": false,
     "input": [
      "[x for x in [(i,j,k) for i in S for j in S for k in S] if sum(x)==0]"
     ],
     "language": "python",
     "metadata": {},
     "outputs": [
      {
       "metadata": {},
       "output_type": "pyout",
       "prompt_number": 51,
       "text": [
        "[(0, 0, 0),\n",
        " (0, 2, -2),\n",
        " (0, -2, 2),\n",
        " (1, 1, -2),\n",
        " (1, -2, 1),\n",
        " (2, 0, -2),\n",
        " (2, 2, -4),\n",
        " (2, -4, 2),\n",
        " (2, -2, 0),\n",
        " (-4, 2, 2),\n",
        " (-2, 0, 2),\n",
        " (-2, 1, 1),\n",
        " (-2, 2, 0)]"
       ]
      }
     ],
     "prompt_number": 51
    },
    {
     "cell_type": "raw",
     "metadata": {},
     "source": [
      "\ufffcTask 14: Modify the comprehension of the previous task so that the resulting list does not include (0, 0, 0). Hint: add a filter."
     ]
    },
    {
     "cell_type": "code",
     "collapsed": false,
     "input": [
      "[x for x in [(i,j,k) for i in S for j in S for k in S] if sum(x)==0 and x != (0,0,0)]"
     ],
     "language": "python",
     "metadata": {},
     "outputs": [
      {
       "metadata": {},
       "output_type": "pyout",
       "prompt_number": 52,
       "text": [
        "[(0, 2, -2),\n",
        " (0, -2, 2),\n",
        " (1, 1, -2),\n",
        " (1, -2, 1),\n",
        " (2, 0, -2),\n",
        " (2, 2, -4),\n",
        " (2, -4, 2),\n",
        " (2, -2, 0),\n",
        " (-4, 2, 2),\n",
        " (-2, 0, 2),\n",
        " (-2, 1, 1),\n",
        " (-2, 2, 0)]"
       ]
      }
     ],
     "prompt_number": 52
    },
    {
     "cell_type": "raw",
     "metadata": {},
     "source": [
      "\ufffcTask 15: Further modify the expression so that its value is not the list of all such tuples but is the first such tuple."
     ]
    },
    {
     "cell_type": "code",
     "collapsed": false,
     "input": [
      "[x for x in [(i,j,k) for i in S for j in S for k in S] if sum(x)==0 and x != (0,0,0)][:1]"
     ],
     "language": "python",
     "metadata": {},
     "outputs": [
      {
       "metadata": {},
       "output_type": "pyout",
       "prompt_number": 54,
       "text": [
        "[(0, 2, -2)]"
       ]
      }
     ],
     "prompt_number": 54
    },
    {
     "cell_type": "raw",
     "metadata": {},
     "source": [
      "Task 16: Find an example of a list L such that len(L) and len(list(set(L))) are different."
     ]
    },
    {
     "cell_type": "code",
     "collapsed": false,
     "input": [
      "L=[1,2,3,4,5,6,7,8,9]"
     ],
     "language": "python",
     "metadata": {},
     "outputs": [],
     "prompt_number": 55
    },
    {
     "cell_type": "code",
     "collapsed": false,
     "input": [
      "len(L)"
     ],
     "language": "python",
     "metadata": {},
     "outputs": [
      {
       "metadata": {},
       "output_type": "pyout",
       "prompt_number": 56,
       "text": [
        "9"
       ]
      }
     ],
     "prompt_number": 56
    },
    {
     "cell_type": "code",
     "collapsed": false,
     "input": [
      "len(list(set(L)))"
     ],
     "language": "python",
     "metadata": {},
     "outputs": [
      {
       "metadata": {},
       "output_type": "pyout",
       "prompt_number": 57,
       "text": [
        "9"
       ]
      }
     ],
     "prompt_number": 57
    },
    {
     "cell_type": "code",
     "collapsed": false,
     "input": [
      "set(L)"
     ],
     "language": "python",
     "metadata": {},
     "outputs": [
      {
       "metadata": {},
       "output_type": "pyout",
       "prompt_number": 58,
       "text": [
        "{1, 2, 3, 4, 5, 6, 7, 8, 9}"
       ]
      }
     ],
     "prompt_number": 58
    },
    {
     "cell_type": "code",
     "collapsed": false,
     "input": [
      "list(set(L))"
     ],
     "language": "python",
     "metadata": {},
     "outputs": [
      {
       "metadata": {},
       "output_type": "pyout",
       "prompt_number": 59,
       "text": [
        "[1, 2, 3, 4, 5, 6, 7, 8, 9]"
       ]
      }
     ],
     "prompt_number": 59
    },
    {
     "cell_type": "code",
     "collapsed": false,
     "input": [
      "LL=[1,2,3,3,3,4,5,6]"
     ],
     "language": "python",
     "metadata": {},
     "outputs": [],
     "prompt_number": 60
    },
    {
     "cell_type": "code",
     "collapsed": false,
     "input": [
      "len(LL)"
     ],
     "language": "python",
     "metadata": {},
     "outputs": [
      {
       "metadata": {},
       "output_type": "pyout",
       "prompt_number": 61,
       "text": [
        "8"
       ]
      }
     ],
     "prompt_number": 61
    },
    {
     "cell_type": "code",
     "collapsed": false,
     "input": [
      "len(list(set(LL)))"
     ],
     "language": "python",
     "metadata": {},
     "outputs": [
      {
       "metadata": {},
       "output_type": "pyout",
       "prompt_number": 62,
       "text": [
        "6"
       ]
      }
     ],
     "prompt_number": 62
    },
    {
     "cell_type": "raw",
     "metadata": {},
     "source": [
      "\ufffcTask 17: Write a comprehension over a range of the form range(n) such that the value of the compre- hension is the set of odd numbers from 1 to 99."
     ]
    },
    {
     "cell_type": "code",
     "collapsed": false,
     "input": [
      "[x for x in range(1,100) if x%2 != 0]"
     ],
     "language": "python",
     "metadata": {},
     "outputs": [
      {
       "metadata": {},
       "output_type": "pyout",
       "prompt_number": 64,
       "text": [
        "[1,\n",
        " 3,\n",
        " 5,\n",
        " 7,\n",
        " 9,\n",
        " 11,\n",
        " 13,\n",
        " 15,\n",
        " 17,\n",
        " 19,\n",
        " 21,\n",
        " 23,\n",
        " 25,\n",
        " 27,\n",
        " 29,\n",
        " 31,\n",
        " 33,\n",
        " 35,\n",
        " 37,\n",
        " 39,\n",
        " 41,\n",
        " 43,\n",
        " 45,\n",
        " 47,\n",
        " 49,\n",
        " 51,\n",
        " 53,\n",
        " 55,\n",
        " 57,\n",
        " 59,\n",
        " 61,\n",
        " 63,\n",
        " 65,\n",
        " 67,\n",
        " 69,\n",
        " 71,\n",
        " 73,\n",
        " 75,\n",
        " 77,\n",
        " 79,\n",
        " 81,\n",
        " 83,\n",
        " 85,\n",
        " 87,\n",
        " 89,\n",
        " 91,\n",
        " 93,\n",
        " 95,\n",
        " 97,\n",
        " 99]"
       ]
      }
     ],
     "prompt_number": 64
    },
    {
     "cell_type": "raw",
     "metadata": {},
     "source": [
      "Task 18: Assign to L the list consisting of the first five letters ['A','B','C','D','E']. Next, use L in an expression whose value is\n",
      "                  [(0, \u2019A\u2019), (1, \u2019B\u2019), (2, \u2019C\u2019), (3, \u2019D\u2019), (4, \u2019E\u2019)]\n",
      "Your expression should use a range and a zip, but should not use a comprehension."
     ]
    },
    {
     "cell_type": "code",
     "collapsed": false,
     "input": [
      "L=['A','B','C','D','E']"
     ],
     "language": "python",
     "metadata": {},
     "outputs": [],
     "prompt_number": 66
    },
    {
     "cell_type": "code",
     "collapsed": false,
     "input": [
      "list(zip(range(5),L))"
     ],
     "language": "python",
     "metadata": {},
     "outputs": [
      {
       "metadata": {},
       "output_type": "pyout",
       "prompt_number": 70,
       "text": [
        "[(0, 'A'), (1, 'B'), (2, 'C'), (3, 'D'), (4, 'E')]"
       ]
      }
     ],
     "prompt_number": 70
    },
    {
     "cell_type": "raw",
     "metadata": {},
     "source": [
      "Task 19: Starting from the lists [10, 25, 40] and [1, 15, 20], write a comprehension whose value is the three-element list in which the first element is the sum of 10 and 1, the second is the sum of 25 and 15, and the third is the sum of 40 and 20. Your expression should use zip but not list."
     ]
    },
    {
     "cell_type": "code",
     "collapsed": false,
     "input": [
      "[sum(x) for x in zip([10,25,40],[1,15,20])]"
     ],
     "language": "python",
     "metadata": {},
     "outputs": [
      {
       "metadata": {},
       "output_type": "pyout",
       "prompt_number": 71,
       "text": [
        "[11, 40, 60]"
       ]
      }
     ],
     "prompt_number": 71
    },
    {
     "cell_type": "raw",
     "metadata": {},
     "source": [
      "Task 20: Suppose dlist is a list of dictionaries and k is a key that appears in all the dictionaries in dlist. Write a comprehension that evaluates to the list whose i^th element is the value corresponding to key k in the i^th dictionary in dlist.\n",
      "Test your comprehension with some data. Here are some example data.\n",
      "dlist = [{'James':'Sean', 'director':'Terence'}, {'James':'Roger',\n",
      "'director':'Lewis'}, {'James':'Pierce', 'director':'Roger'}]\n",
      "k = 'James'\n",
      "For these data, the value corresponding to k in the first dictionary is \u2019Sean\u2019, the value corresponding to k in the second dictionary is \u2019Roger\u2019, and the value corresponding to k in the third dictionary is \u2019Pierce\u2019, so the comprehension should evaluate to [\u2019Sean\u2019,\u2019Roger\u2019,\u2019Pierce\u2019]."
     ]
    },
    {
     "cell_type": "code",
     "collapsed": false,
     "input": [
      "dlist = [{'James':'Sean', 'director':'Terence'}, {'James':'Roger',\n",
      "'director':'Lewis'}, {'James':'Pierce', 'director':'Roger'}]"
     ],
     "language": "python",
     "metadata": {},
     "outputs": [],
     "prompt_number": 72
    },
    {
     "cell_type": "code",
     "collapsed": false,
     "input": [
      "[k[\"James\"] for k in dlist]"
     ],
     "language": "python",
     "metadata": {},
     "outputs": [
      {
       "metadata": {},
       "output_type": "pyout",
       "prompt_number": 74,
       "text": [
        "['Sean', 'Roger', 'Pierce']"
       ]
      }
     ],
     "prompt_number": 74
    },
    {
     "cell_type": "raw",
     "metadata": {},
     "source": [
      "Task 21: Modify the comprehension in Task 20 to handle the case in which k might not appear in all the dictionaries. The comprehension evaluates to the list whose ith element is the value corresponding to key k in the ith dictionary in dlist if that dictionary contains that key, and 'NOT PRESENT' otherwise. One way to solve this is to use a conditional expression. Another way is to use the .get(key, default) method of dictionaries.\n",
      "Test your comprehension with k = 'Bilbo' and k = 'Frodo' and with the following list of dictionaries: dlist = [{'Bilbo':'Ian','Frodo':'Elijah'},\n",
      "         {'Bilbo':'Martin','Thorin':'Richard'}]\n",
      "For example, with k = Frodo', the first dictionary in the list maps \u2019Frodo\u2019 to \u2019Elijah\u2019, and the sec- ond dictionary in the list does not map \u2019Frodo\u2019 to anything, so the comprehension should evaluate to"
     ]
    },
    {
     "cell_type": "code",
     "collapsed": false,
     "input": [
      "clist = [{'James':'Sean', 'director':'Terence'}, {'James':'Roger',\n",
      "'director':'Lewis'}, {'James':'Pierce', 'director':'Roger'}, {'Will':'This', 'John':'That'}]"
     ],
     "language": "python",
     "metadata": {},
     "outputs": [],
     "prompt_number": 75
    },
    {
     "cell_type": "code",
     "collapsed": false,
     "input": [
      "[k[\"James\"] if \"James\" in k else 'Not Present' for k in clist]"
     ],
     "language": "python",
     "metadata": {},
     "outputs": [
      {
       "metadata": {},
       "output_type": "pyout",
       "prompt_number": 85,
       "text": [
        "['Sean', 'Roger', 'Pierce', 'Not Present']"
       ]
      }
     ],
     "prompt_number": 85
    },
    {
     "cell_type": "raw",
     "metadata": {},
     "source": [
      "\ufffcTask 22: Using range, write a comprehension whose value is a dictionary. The keys should be the integers from 0 to 99 and the value corresponding to a key should be the square of the key."
     ]
    },
    {
     "cell_type": "code",
     "collapsed": false,
     "input": [
      "{k:k**2 for k in range(100)}"
     ],
     "language": "python",
     "metadata": {},
     "outputs": [
      {
       "metadata": {},
       "output_type": "pyout",
       "prompt_number": 87,
       "text": [
        "{0: 0,\n",
        " 1: 1,\n",
        " 2: 4,\n",
        " 3: 9,\n",
        " 4: 16,\n",
        " 5: 25,\n",
        " 6: 36,\n",
        " 7: 49,\n",
        " 8: 64,\n",
        " 9: 81,\n",
        " 10: 100,\n",
        " 11: 121,\n",
        " 12: 144,\n",
        " 13: 169,\n",
        " 14: 196,\n",
        " 15: 225,\n",
        " 16: 256,\n",
        " 17: 289,\n",
        " 18: 324,\n",
        " 19: 361,\n",
        " 20: 400,\n",
        " 21: 441,\n",
        " 22: 484,\n",
        " 23: 529,\n",
        " 24: 576,\n",
        " 25: 625,\n",
        " 26: 676,\n",
        " 27: 729,\n",
        " 28: 784,\n",
        " 29: 841,\n",
        " 30: 900,\n",
        " 31: 961,\n",
        " 32: 1024,\n",
        " 33: 1089,\n",
        " 34: 1156,\n",
        " 35: 1225,\n",
        " 36: 1296,\n",
        " 37: 1369,\n",
        " 38: 1444,\n",
        " 39: 1521,\n",
        " 40: 1600,\n",
        " 41: 1681,\n",
        " 42: 1764,\n",
        " 43: 1849,\n",
        " 44: 1936,\n",
        " 45: 2025,\n",
        " 46: 2116,\n",
        " 47: 2209,\n",
        " 48: 2304,\n",
        " 49: 2401,\n",
        " 50: 2500,\n",
        " 51: 2601,\n",
        " 52: 2704,\n",
        " 53: 2809,\n",
        " 54: 2916,\n",
        " 55: 3025,\n",
        " 56: 3136,\n",
        " 57: 3249,\n",
        " 58: 3364,\n",
        " 59: 3481,\n",
        " 60: 3600,\n",
        " 61: 3721,\n",
        " 62: 3844,\n",
        " 63: 3969,\n",
        " 64: 4096,\n",
        " 65: 4225,\n",
        " 66: 4356,\n",
        " 67: 4489,\n",
        " 68: 4624,\n",
        " 69: 4761,\n",
        " 70: 4900,\n",
        " 71: 5041,\n",
        " 72: 5184,\n",
        " 73: 5329,\n",
        " 74: 5476,\n",
        " 75: 5625,\n",
        " 76: 5776,\n",
        " 77: 5929,\n",
        " 78: 6084,\n",
        " 79: 6241,\n",
        " 80: 6400,\n",
        " 81: 6561,\n",
        " 82: 6724,\n",
        " 83: 6889,\n",
        " 84: 7056,\n",
        " 85: 7225,\n",
        " 86: 7396,\n",
        " 87: 7569,\n",
        " 88: 7744,\n",
        " 89: 7921,\n",
        " 90: 8100,\n",
        " 91: 8281,\n",
        " 92: 8464,\n",
        " 93: 8649,\n",
        " 94: 8836,\n",
        " 95: 9025,\n",
        " 96: 9216,\n",
        " 97: 9409,\n",
        " 98: 9604,\n",
        " 99: 9801}"
       ]
      }
     ],
     "prompt_number": 87
    },
    {
     "cell_type": "raw",
     "metadata": {},
     "source": [
      "\ufffcTask 23: Assign to the variable D the set {'red','white','blue'}. Now write a comprehension that evaluates to a dictionary that represents the identity function on D."
     ]
    },
    {
     "cell_type": "code",
     "collapsed": false,
     "input": [
      "D = {'red','white','blue'}"
     ],
     "language": "python",
     "metadata": {},
     "outputs": [],
     "prompt_number": 88
    },
    {
     "cell_type": "code",
     "collapsed": false,
     "input": [
      "{x for x in D}"
     ],
     "language": "python",
     "metadata": {},
     "outputs": [
      {
       "metadata": {},
       "output_type": "pyout",
       "prompt_number": 89,
       "text": [
        "{'blue', 'red', 'white'}"
       ]
      }
     ],
     "prompt_number": 89
    },
    {
     "cell_type": "raw",
     "metadata": {},
     "source": [
      "Task 24: Our system for writing numbers uses decimal notation. For example, the digits (2, 1, 5) represent the number 2\u00d7102 +1\u00b7101 +5\u00b7100. We say for this system that the base is 10, and that the available digits are 0,1,2,...,9.\n",
      "In binary, the digits (1,0,1) represent the number 1\u00d722 +0\u00b721 +1\u00b720. In this case, the base is 2, and the available digits are 0, 1.\n",
      "Write a dictionary comprehension using the variables base and digits that evaluates to a dictionary that maps each three-digit number to the three digits that represent it. For example, if base = 10 then digits should be the set {0,1,2,..., 9} and the comprehension should evaluate to\n",
      "{0:(0,0,0), 1:(0,0,1), ..., 999:(9,9,9)}\n",
      "If base = 2 then digits should be the set {0,1}, and the comprehension should evaluate to\n",
      "  {0:(0,0,0), 1:(0,0,1), 2:(0,1,0),3:(0,1,1), 4:(1,0,0), ...}"
     ]
    },
    {
     "cell_type": "raw",
     "metadata": {},
     "source": [
      "--"
     ]
    },
    {
     "cell_type": "raw",
     "metadata": {},
     "source": [
      "Task 25: Suppose id2salary is a dictionary that maps some employee IDs (a subset of the integers from 0 to n \u2212 1) to salaries. Suppose L is an n-element list whose ith element is the name of employee number i. Your goal is to write a comprehension whose value is a dictionary mapping employee names to salaries. You can assume that employee names are distinct.\n",
      "Test your comprehension with the following data:\n",
      "id2salary = {0:1000.0, 3:990, 1:1200.50}\n",
      "names = ['Larry', 'Curly', '', 'Moe']"
     ]
    },
    {
     "cell_type": "code",
     "collapsed": false,
     "input": [
      "id2salary = {0:1000.0, 3:990, 1:1200.50}"
     ],
     "language": "python",
     "metadata": {},
     "outputs": [],
     "prompt_number": 90
    },
    {
     "cell_type": "code",
     "collapsed": false,
     "input": [
      "names = ['Larry', 'Curly', '', 'Moe']"
     ],
     "language": "python",
     "metadata": {},
     "outputs": [],
     "prompt_number": 91
    },
    {
     "cell_type": "code",
     "collapsed": false,
     "input": [
      "{k:v for k in names for v in id2salary.values()}"
     ],
     "language": "python",
     "metadata": {},
     "outputs": [
      {
       "metadata": {},
       "output_type": "pyout",
       "prompt_number": 94,
       "text": [
        "{'': 990, 'Moe': 990, 'Curly': 990, 'Larry': 990}"
       ]
      }
     ],
     "prompt_number": 94
    },
    {
     "cell_type": "code",
     "collapsed": false,
     "input": [
      "{k for k in id2salary.values()}"
     ],
     "language": "python",
     "metadata": {},
     "outputs": [
      {
       "metadata": {},
       "output_type": "pyout",
       "prompt_number": 96,
       "text": [
        "{990, 1000.0, 1200.5}"
       ]
      }
     ],
     "prompt_number": 96
    },
    {
     "cell_type": "code",
     "collapsed": false,
     "input": [
      "{k:v for (k,v) in id2salary.items()}"
     ],
     "language": "python",
     "metadata": {},
     "outputs": [
      {
       "metadata": {},
       "output_type": "pyout",
       "prompt_number": 99,
       "text": [
        "{0: 1000.0, 1: 1200.5, 3: 990}"
       ]
      }
     ],
     "prompt_number": 99
    },
    {
     "cell_type": "code",
     "collapsed": false,
     "input": [
      "{names[k]:v for (k,v) in id2salary.items()}"
     ],
     "language": "python",
     "metadata": {},
     "outputs": [
      {
       "metadata": {},
       "output_type": "pyout",
       "prompt_number": 100,
       "text": [
        "{'Moe': 990, 'Curly': 1200.5, 'Larry': 1000.0}"
       ]
      }
     ],
     "prompt_number": 100
    },
    {
     "cell_type": "raw",
     "metadata": {},
     "source": [
      "Ungraded Task: Try entering the definition of twice(z). After you enter the definition, you will see the ellipsis. Just press enter. Next, try invoking the procedure on some actual arguments. Just for fun, try strings or lists. Finally, verify that the variable z is now not bound to any value by asking Python to evaluate the expression consisting of z."
     ]
    },
    {
     "cell_type": "code",
     "collapsed": false,
     "input": [
      "def twice(z): return 2*z"
     ],
     "language": "python",
     "metadata": {},
     "outputs": [],
     "prompt_number": 101
    },
    {
     "cell_type": "code",
     "collapsed": false,
     "input": [
      "twice(2)"
     ],
     "language": "python",
     "metadata": {},
     "outputs": [
      {
       "metadata": {},
       "output_type": "pyout",
       "prompt_number": 102,
       "text": [
        "4"
       ]
      }
     ],
     "prompt_number": 102
    },
    {
     "cell_type": "code",
     "collapsed": false,
     "input": [
      "twice('this')"
     ],
     "language": "python",
     "metadata": {},
     "outputs": [
      {
       "metadata": {},
       "output_type": "pyout",
       "prompt_number": 103,
       "text": [
        "'thisthis'"
       ]
      }
     ],
     "prompt_number": 103
    },
    {
     "cell_type": "code",
     "collapsed": false,
     "input": [
      "twice([1,2,3])"
     ],
     "language": "python",
     "metadata": {},
     "outputs": [
      {
       "metadata": {},
       "output_type": "pyout",
       "prompt_number": 104,
       "text": [
        "[1, 2, 3, 1, 2, 3]"
       ]
      }
     ],
     "prompt_number": 104
    },
    {
     "cell_type": "code",
     "collapsed": false,
     "input": [
      "twice({'one','two','three'})"
     ],
     "language": "python",
     "metadata": {},
     "outputs": [
      {
       "ename": "TypeError",
       "evalue": "unsupported operand type(s) for *: 'int' and 'set'",
       "output_type": "pyerr",
       "traceback": [
        "\u001b[1;31m---------------------------------------------------------------------------\u001b[0m\n\u001b[1;31mTypeError\u001b[0m                                 Traceback (most recent call last)",
        "\u001b[1;32m<ipython-input-109-68fcaeb90ea5>\u001b[0m in \u001b[0;36m<module>\u001b[1;34m()\u001b[0m\n\u001b[1;32m----> 1\u001b[1;33m \u001b[0mtwice\u001b[0m\u001b[1;33m(\u001b[0m\u001b[1;33m{\u001b[0m\u001b[1;34m'one'\u001b[0m\u001b[1;33m,\u001b[0m\u001b[1;34m'two'\u001b[0m\u001b[1;33m,\u001b[0m\u001b[1;34m'three'\u001b[0m\u001b[1;33m}\u001b[0m\u001b[1;33m)\u001b[0m\u001b[1;33m\u001b[0m\u001b[0m\n\u001b[0m",
        "\u001b[1;32m<ipython-input-101-7f7c822aaf4f>\u001b[0m in \u001b[0;36mtwice\u001b[1;34m(z)\u001b[0m\n\u001b[1;32m----> 1\u001b[1;33m \u001b[1;32mdef\u001b[0m \u001b[0mtwice\u001b[0m\u001b[1;33m(\u001b[0m\u001b[0mz\u001b[0m\u001b[1;33m)\u001b[0m\u001b[1;33m:\u001b[0m \u001b[1;32mreturn\u001b[0m \u001b[1;36m2\u001b[0m\u001b[1;33m*\u001b[0m\u001b[0mz\u001b[0m\u001b[1;33m\u001b[0m\u001b[0m\n\u001b[0m",
        "\u001b[1;31mTypeError\u001b[0m: unsupported operand type(s) for *: 'int' and 'set'"
       ]
      }
     ],
     "prompt_number": 109
    },
    {
     "cell_type": "raw",
     "metadata": {},
     "source": [
      "Task 26: Define a one-line procedure nextInts(L) specified as follows:\n",
      "\u2022 input: list L of integers\n",
      "\u2022 output: list of integers whose ith element is one more than the ith element of L \u2022 example: input [1, 5, 7], output [2, 6, 8]."
     ]
    },
    {
     "cell_type": "code",
     "collapsed": false,
     "input": [
      "def nextInts(L): return [l + 1 for l in L]"
     ],
     "language": "python",
     "metadata": {},
     "outputs": [],
     "prompt_number": 112
    },
    {
     "cell_type": "code",
     "collapsed": false,
     "input": [
      "nextInts([1,5,7])"
     ],
     "language": "python",
     "metadata": {},
     "outputs": [
      {
       "metadata": {},
       "output_type": "pyout",
       "prompt_number": 114,
       "text": [
        "[2, 6, 8]"
       ]
      }
     ],
     "prompt_number": 114
    },
    {
     "cell_type": "raw",
     "metadata": {},
     "source": [
      "Task 27: Define a one-line procedure cubes(L) specified as follows:\n",
      "\u2022 input: list L of numbers\n",
      "\u2022 output: list of numbers whose ith element is the cube of the ith element of L \u2022 example: input [1, 2, 3], output [1, 8, 27]."
     ]
    },
    {
     "cell_type": "code",
     "collapsed": false,
     "input": [
      "def cubes(L): return [x**3 for x in L]"
     ],
     "language": "python",
     "metadata": {},
     "outputs": [],
     "prompt_number": 117
    },
    {
     "cell_type": "code",
     "collapsed": false,
     "input": [
      "cubes([1,2,3])"
     ],
     "language": "python",
     "metadata": {},
     "outputs": [
      {
       "metadata": {},
       "output_type": "pyout",
       "prompt_number": 118,
       "text": [
        "[1, 8, 27]"
       ]
      }
     ],
     "prompt_number": 118
    },
    {
     "cell_type": "raw",
     "metadata": {},
     "source": [
      "Task 28: Define a one-line procedure dict2list(dct,keylist) with this spec:\n",
      "\u2022 input: dictionary dct, list keylist consisting of the keys of dct\n",
      "\u2022 output: list L such that L[i] = dct[keylist[i]] for i = 0, 1, 2, . . . , len(keylist) \u2212 1\n",
      "\u2022 example: input dct={'a':'A', 'b':'B', 'c':'C'} and keylist=['b','c','a'], output ['B', 'C', 'A']"
     ]
    },
    {
     "cell_type": "code",
     "collapsed": false,
     "input": [
      "def dict2list(dct, keylist): return [dct[k] for k in keylist]"
     ],
     "language": "python",
     "metadata": {},
     "outputs": [],
     "prompt_number": 119
    },
    {
     "cell_type": "code",
     "collapsed": false,
     "input": [
      "dct={'a':'A', 'b':'B', 'c':'C'}"
     ],
     "language": "python",
     "metadata": {},
     "outputs": [],
     "prompt_number": 120
    },
    {
     "cell_type": "code",
     "collapsed": false,
     "input": [
      "keylist=['b','c','a']"
     ],
     "language": "python",
     "metadata": {},
     "outputs": [],
     "prompt_number": 121
    },
    {
     "cell_type": "code",
     "collapsed": false,
     "input": [
      "dict2list(dct,keylist)"
     ],
     "language": "python",
     "metadata": {},
     "outputs": [
      {
       "metadata": {},
       "output_type": "pyout",
       "prompt_number": 122,
       "text": [
        "['B', 'C', 'A']"
       ]
      }
     ],
     "prompt_number": 122
    },
    {
     "cell_type": "raw",
     "metadata": {},
     "source": [
      "Task 29: Define a one-line procedure list2dict(L, keylist) specified as follows: \u2022 input: list L, list keylist of immutable items\n",
      "\u2022 output: dictionary that maps keylist[i] to L[i] for i = 0, 1, 2, . . . , len(L) \u2212 1\n",
      "\u2022 example: input L=[\u2019A\u2019,\u2019B\u2019,\u2019C\u2019] and keylist=[\u2019a\u2019,\u2019b\u2019,\u2019c\u2019],\n",
      "output {'a':'A', 'b':'B', 'c':'C'}\n",
      "Hint: Use a comprehension that iterates over a zip or a range."
     ]
    },
    {
     "cell_type": "code",
     "collapsed": false,
     "input": [
      "def list2dict(L, keylist): return {keylist[k]:L[k] for k in range(3)}"
     ],
     "language": "python",
     "metadata": {},
     "outputs": [],
     "prompt_number": 138
    },
    {
     "cell_type": "code",
     "collapsed": false,
     "input": [
      "L=['A','B','C']"
     ],
     "language": "python",
     "metadata": {},
     "outputs": [],
     "prompt_number": 125
    },
    {
     "cell_type": "code",
     "collapsed": false,
     "input": [
      "keylist=['a','b','c']"
     ],
     "language": "python",
     "metadata": {},
     "outputs": [],
     "prompt_number": 126
    },
    {
     "cell_type": "code",
     "collapsed": false,
     "input": [
      "list2dict(L, keylist)"
     ],
     "language": "python",
     "metadata": {},
     "outputs": [
      {
       "metadata": {},
       "output_type": "pyout",
       "prompt_number": 139,
       "text": [
        "{'a': 'A', 'b': 'B', 'c': 'C'}"
       ]
      }
     ],
     "prompt_number": 139
    },
    {
     "cell_type": "raw",
     "metadata": {},
     "source": [
      "Ungraded Task: Write a procedure all 3 digit numbers(base, digits) with the following spec: \u2022 input: a positive integer base and the set digits which should be {0, 1, 2, . . . , base \u2212 1}.\n",
      "\u2022 output: the set of all three-digit numbers where the base is base\n",
      "For example,\n",
      ">>> all_3_digit_numbers(2, {0,1})\n",
      "{0, 1, 2, 3, 4, 5, 6, 7}\n",
      ">>> all_3_digit_numbers(3, {0,1,2})\n",
      "{0, 1, 2, 3, 4, 5, 6, 7, 8, 9, 10, 11, 12, 13, 14, 15, 16, 17, 18,\n",
      " 19, 20, 21, 22, 23, 24, 25, 26}\n",
      ">>> all_3_digit_numbers(10, {0,1,2,3,4,5,6,7,8,9})\n",
      "{0, 1, 2, 3, 4, 5, 6, 7, 8, 9, 10, 11, 12, 13, 14, 15, 16, 17, 18,\n",
      " 19, 20, 21, 22, 23, 24, 25, 26, 27, 28, 29, 30, 31, 32, 33, 34, 35,\n",
      "   ...\n",
      "985, 986, 987, 988, 989, 990, 991, 992, 993, 994, 995, 996, 997, 998, 999}"
     ]
    }
   ],
   "metadata": {}
  }
 ]
}